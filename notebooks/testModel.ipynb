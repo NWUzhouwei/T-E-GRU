{
 "cells": [
  {
   "cell_type": "code",
   "execution_count": 1,
   "id": "superior-vanilla",
   "metadata": {},
   "outputs": [],
   "source": [
    "%matplotlib inline\n",
    "import numpy as np\n",
    "import matplotlib.pyplot as plt\n",
    "import re\n",
    "import jieba # 结巴分词\n",
    "# gensim用来加载预训练word vector\n",
    "from gensim.models import KeyedVectors\n",
    "import warnings\n",
    "warnings.filterwarnings(\"ignore\")\n",
    "import torch\n",
    "import torch.nn as nn\n",
    "from tensorflow.python.keras.preprocessing.sequence import pad_sequences\n",
    "# 用来解压\n",
    "import bz2\n",
    "# 使用gensim加载预训练中文分词embedding, 有可能需要等待1-2分钟\n",
    "cn_model = KeyedVectors.load_word2vec_format('../models/embeddings/sgns.zhihu.bigram', \n",
    "                                             binary=False, unicode_errors=\"ignore\")"
   ]
  },
  {
   "cell_type": "code",
   "execution_count": 2,
   "id": "instant-method",
   "metadata": {},
   "outputs": [],
   "source": [
    "def embedding_matrix(num_words = 50000,embedding_dim = 300):\n",
    "\n",
    "    # 初始化embedding_matrix，之后在keras上进行应用\n",
    "    embedding_matrix = np.zeros((num_words, embedding_dim))\n",
    "    for i in range(num_words):\n",
    "        embedding_matrix[i,:] = cn_model[ cn_model.index2word[i] ]\n",
    "    embedding_matrix = embedding_matrix.astype('float32')\n",
    "    return embedding_matrix"
   ]
  },
  {
   "cell_type": "code",
   "execution_count": 16,
   "id": "junior-exception",
   "metadata": {},
   "outputs": [],
   "source": [
    "class Net(nn.Module):\n",
    "    def __init__(self, input_size, hidden_size, output_size, batch_size, num_layers=1,num_words=50000):\n",
    "        super().__init__()\n",
    "\n",
    "        self.hidden_size = hidden_size\n",
    "        self.num_layers = num_layers\n",
    "        self.batch_size = batch_size\n",
    "\n",
    "        self.embedding = nn.Embedding.from_pretrained(torch.Tensor(embedding_matrix(num_words)))\n",
    "        self.embedding.requires_grad = False\n",
    "\n",
    "        self.rnn = nn.GRU(input_size, hidden_size, num_layers,bidirectional=True)\n",
    "        self.linear = nn.Linear(hidden_size*2, output_size)\n",
    "        self.softmax = nn.LogSoftmax(dim=-1)\n",
    "\n",
    "    def forward(self, x, hidden):\n",
    "        x = self.embedding(x)\n",
    "        x = x.transpose(0, 1)\n",
    "        output, hn = self.rnn(x, hidden)\n",
    "        output = self.linear(output[-1])\n",
    "        output = self.softmax(output)\n",
    "        return output\n",
    "\n",
    "\n",
    "    def initHidden(self):\n",
    "        h_0 = torch.zeros(self.num_layers*2, self.batch_size, self.hidden_size)\n",
    "        return h_0\n",
    "    def initHiddenOne(self):\n",
    "        h_0 = torch.zeros(self.num_layers*2, 1, self.hidden_size)\n",
    "        return h_0\n",
    "\n"
   ]
  },
  {
   "cell_type": "code",
   "execution_count": 17,
   "id": "divine-prayer",
   "metadata": {},
   "outputs": [],
   "source": [
    "device = torch.device('cuda' if torch.cuda.is_available() else 'cpu')\n",
    "Batch_size = 128\n",
    "N_EPOCHS = 100\n",
    "sequence_len = 100\n",
    "num_words = 200000\n",
    "\n",
    "net = Net(input_size=300, hidden_size=128, output_size=2, batch_size=Batch_size,num_words=num_words)"
   ]
  },
  {
   "cell_type": "code",
   "execution_count": 18,
   "id": "absolute-boundary",
   "metadata": {},
   "outputs": [
    {
     "data": {
      "text/plain": [
       "<All keys matched successfully>"
      ]
     },
     "execution_count": 18,
     "metadata": {},
     "output_type": "execute_result"
    }
   ],
   "source": [
    "net.load_state_dict(torch.load('../log/Bi_GRU.pkl'))"
   ]
  },
  {
   "cell_type": "code",
   "execution_count": 19,
   "id": "duplicate-watts",
   "metadata": {},
   "outputs": [
    {
     "data": {
      "text/plain": [
       "Net(\n",
       "  (embedding): Embedding(200000, 300)\n",
       "  (rnn): GRU(300, 128, bidirectional=True)\n",
       "  (linear): Linear(in_features=256, out_features=2, bias=True)\n",
       "  (softmax): LogSoftmax(dim=-1)\n",
       ")"
      ]
     },
     "execution_count": 19,
     "metadata": {},
     "output_type": "execute_result"
    }
   ],
   "source": [
    "net"
   ]
  },
  {
   "cell_type": "code",
   "execution_count": 12,
   "id": "massive-going",
   "metadata": {},
   "outputs": [
    {
     "data": {
      "text/plain": [
       "tensor([[   0,    0,    0,    0,    0,    0,    0,    0,    0,    0,    0,    0,\n",
       "            0,    0,    0,    0,    0,    0,    0,    0,    0,    0,    0,    0,\n",
       "            0,    0,    0,    0,    0,    0,    0,    0,    0,    0,    0,    0,\n",
       "            0,    0,    0,    0,    0,    0,    0,    0,    0,    0,    0,    0,\n",
       "            0,    0,    0,    0,    0,    0,    0,    0,    0,    0,    0,    0,\n",
       "            0,    0,    0,    0,    0,    0,    0,    0,    0,    0,    0,    0,\n",
       "            0,    0,    0,    0,    0,    0,    0,    0,    0,    0,    0,    0,\n",
       "            0,   22,  196,  612, 5915,    3]])"
      ]
     },
     "execution_count": 12,
     "metadata": {},
     "output_type": "execute_result"
    }
   ],
   "source": [
    "def dealwithSentence(text,num_words = 50000):\n",
    "    text = re.sub(\"[\\s+\\.\\!\\/_,$%^*(+\\\"\\']+|[+——！，。？、~@#￥%……&*（）]+\", \"\", text)\n",
    "    cut_list=[]\n",
    "    cut = jieba.cut(text)\n",
    "    cut_list = [i for i in cut]\n",
    "    for i, word in enumerate(cut_list):\n",
    "        try:\n",
    "            cut_list[i] = cn_model.vocab[word].index\n",
    "        except:\n",
    "            cut_list[i] = 0\n",
    "    token_result=[]\n",
    "    token_result.append(cut_list)\n",
    "    max_tokens=90\n",
    "    pad_result = pad_sequences(token_result, maxlen=max_tokens,padding='pre', truncating='pre')\n",
    "    pad_result[ pad_result>=num_words] = 0\n",
    "    \n",
    "    return torch.Tensor(pad_result).long()\n",
    "\n",
    "dealwithSentence('这电影简直太差了！')"
   ]
  },
  {
   "cell_type": "code",
   "execution_count": 20,
   "id": "isolated-helicopter",
   "metadata": {},
   "outputs": [
    {
     "name": "stdout",
     "output_type": "stream",
     "text": [
      "该评论是消极的\n"
     ]
    }
   ],
   "source": [
    "output = net(dealwithSentence('这电影简直太差了！'),net.initHiddenOne())\n",
    "if output.topk(1)[1] == 0:\n",
    "    print('该评论是消极的')\n",
    "else:\n",
    "    print('该评论是积极的')"
   ]
  },
  {
   "cell_type": "code",
   "execution_count": 22,
   "id": "naval-morocco",
   "metadata": {},
   "outputs": [
    {
     "name": "stdout",
     "output_type": "stream",
     "text": [
      "该评论是积极的\n"
     ]
    }
   ],
   "source": [
    "output = net(dealwithSentence('感觉自己回到了童年！'),net.initHiddenOne())\n",
    "if output.topk(1)[1] == 0:\n",
    "    print('该评论是消极的')\n",
    "else:\n",
    "    print('该评论是积极的')"
   ]
  },
  {
   "cell_type": "code",
   "execution_count": 24,
   "id": "forbidden-decade",
   "metadata": {},
   "outputs": [
    {
     "name": "stdout",
     "output_type": "stream",
     "text": [
      "该评论是消极的\n"
     ]
    }
   ],
   "source": [
    "output = net(dealwithSentence('电影故事情节很吸引人，但是悬疑性质不足'),net.initHiddenOne())\n",
    "if output.topk(1)[1] == 0:\n",
    "    print('该评论是消极的')\n",
    "else:\n",
    "    print('该评论是积极的')"
   ]
  },
  {
   "cell_type": "code",
   "execution_count": 26,
   "id": "wanted-sheriff",
   "metadata": {},
   "outputs": [
    {
     "name": "stdout",
     "output_type": "stream",
     "text": [
      "该评论是积极的\n"
     ]
    }
   ],
   "source": [
    "output = net(dealwithSentence('电影故事情节很吸引人，但是悬疑性质不足，导致后面看的块睡着了，不过最后醒来看到结局还是很惊艳的'),net.initHiddenOne())\n",
    "if output.topk(1)[1] == 0:\n",
    "    print('该评论是消极的')\n",
    "else:\n",
    "    print('该评论是积极的')"
   ]
  },
  {
   "cell_type": "code",
   "execution_count": 28,
   "id": "viral-magic",
   "metadata": {},
   "outputs": [
    {
     "name": "stdout",
     "output_type": "stream",
     "text": [
      "该评论是积极的\n"
     ]
    }
   ],
   "source": [
    "output = net(dealwithSentence('这喜剧我看出了泪点，服了'),net.initHiddenOne())\n",
    "if output.topk(1)[1] == 0:\n",
    "    print('该评论是消极的')\n",
    "else:\n",
    "    print('该评论是积极的')"
   ]
  },
  {
   "cell_type": "code",
   "execution_count": 29,
   "id": "ambient-jenny",
   "metadata": {},
   "outputs": [
    {
     "name": "stdout",
     "output_type": "stream",
     "text": [
      "该评论是积极的\n"
     ]
    }
   ],
   "source": [
    "output = net(dealwithSentence('我知道了，凶手就是第一个人'),net.initHiddenOne())\n",
    "if output.topk(1)[1] == 0:\n",
    "    print('该评论是消极的')\n",
    "else:\n",
    "    print('该评论是积极的')"
   ]
  },
  {
   "cell_type": "code",
   "execution_count": 30,
   "id": "meaning-factory",
   "metadata": {},
   "outputs": [
    {
     "name": "stdout",
     "output_type": "stream",
     "text": [
      "该评论是消极的\n"
     ]
    }
   ],
   "source": [
    "output = net(dealwithSentence('椅子挺舒服，背景音乐不错.....'),net.initHiddenOne())\n",
    "if output.topk(1)[1] == 0:\n",
    "    print('该评论是消极的')\n",
    "else:\n",
    "    print('该评论是积极的')"
   ]
  },
  {
   "cell_type": "markdown",
   "id": "bulgarian-maine",
   "metadata": {},
   "source": [
    "这电影简直没法看\n",
    "发人深省啊！\n",
    "一堆流量明星而已\n",
    "感觉自己回到了童年\n",
    "看得我快睡着了。。。\n",
    "这电影。。一言难尽啊\n",
    "电影故事情节很吸引人，但是悬疑性质不足\n",
    "最后醒来看到结局还是很惊艳的\n",
    "椅子挺舒服，背景音乐不错.....\n",
    "感觉真相不是结局的那么简单！\n",
    "凶手是第一个人？\n",
    "有机会在看一次！\n",
    "这电影找点优点真不容易\n",
    "这鬼片差点吓死！\n",
    "电影故事情节很吸引人，但是悬疑性质不足，导致后面看的块睡着了，不过最后醒来看到结局还是很惊艳的\n",
    "\n",
    "看的我居然饿了\n",
    "这喜剧我看出了泪点，服了\n",
    "这魔术看不懂啊\n"
   ]
  }
 ],
 "metadata": {
  "kernelspec": {
   "display_name": "Python [conda env:sentimentAnalysis]",
   "language": "python",
   "name": "conda-env-sentimentAnalysis-py"
  },
  "language_info": {
   "codemirror_mode": {
    "name": "ipython",
    "version": 3
   },
   "file_extension": ".py",
   "mimetype": "text/x-python",
   "name": "python",
   "nbconvert_exporter": "python",
   "pygments_lexer": "ipython3",
   "version": "3.7.1"
  }
 },
 "nbformat": 4,
 "nbformat_minor": 5
}
