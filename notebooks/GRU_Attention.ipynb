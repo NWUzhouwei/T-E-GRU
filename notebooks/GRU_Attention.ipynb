{
 "cells": [
  {
   "cell_type": "code",
   "execution_count": 1,
   "id": "smart-cabin",
   "metadata": {},
   "outputs": [],
   "source": [
    "import numpy as np\n",
    "import torch\n",
    "import torch.nn as nn\n",
    "import re\n",
    "import jieba\n",
    "import pandas as pd\n",
    "from gensim.models import KeyedVectors\n",
    "from tensorflow.python.keras.preprocessing.sequence import pad_sequences\n",
    "from torch.utils.data import random_split,DataLoader\n",
    "import warnings\n",
    "import torch.optim as optim\n",
    "import time\n",
    "warnings.filterwarnings(\"ignore\")\n",
    "# 使用gensim加载预训练中文分词embedding, 有可能需要等待1-2分钟\n",
    "cn_model = KeyedVectors.load_word2vec_format('../models/embeddings/sgns.zhihu.bigram', \n",
    "                                             binary=False, unicode_errors=\"ignore\")"
   ]
  },
  {
   "cell_type": "markdown",
   "id": "comfortable-ultimate",
   "metadata": {},
   "source": [
    "# 处理数据"
   ]
  },
  {
   "cell_type": "code",
   "execution_count": 2,
   "id": "acknowledged-language",
   "metadata": {},
   "outputs": [],
   "source": [
    "def getdata(filename,num_words = 50000,max_tokens = 90):\n",
    "    data = pd.read_csv(filename).sample(3000)\n",
    "    data = data.to_numpy()\n",
    "    \n",
    "    for item in data:\n",
    "        text = re.sub(\"[\\s+\\/_$%^*(+\\\"\\']+|[+——？、~@#￥%……&*（）]+\", \"\", item[0])\n",
    "        cut = jieba.cut(text)\n",
    "        cut_list = [i for i in cut]\n",
    "        for i, word in enumerate(cut_list):\n",
    "            try:\n",
    "                cut_list[i] = cn_model.vocab[word].index\n",
    "            except:\n",
    "                cut_list[i] = 0\n",
    "        item[0] = np.array(cut_list)\n",
    "        \n",
    "    train_pad = pad_sequences(data[:,0], maxlen=max_tokens,padding='pre', truncating='pre')\n",
    "    train_pad[ train_pad>=num_words] = 0\n",
    "    data_set = [(train_pad[i],data[i][1]) for i in range(len(train_pad))]\n",
    "\n",
    "    return data_set"
   ]
  },
  {
   "cell_type": "markdown",
   "id": "marked-oregon",
   "metadata": {},
   "source": [
    "# 初始化embedding_matrix"
   ]
  },
  {
   "cell_type": "code",
   "execution_count": 3,
   "id": "potential-enhancement",
   "metadata": {},
   "outputs": [],
   "source": [
    "def embedding_matrix(num_words = 50000,embedding_dim = 300):\n",
    "\n",
    "    # 初始化embedding_matrix\n",
    "    embedding_matrix = np.zeros((num_words, embedding_dim))\n",
    "    for i in range(num_words):\n",
    "        embedding_matrix[i,:] = cn_model[ cn_model.index2word[i] ]\n",
    "    embedding_matrix = embedding_matrix.astype('float32')\n",
    "    return embedding_matrix"
   ]
  },
  {
   "cell_type": "markdown",
   "id": "coupled-notebook",
   "metadata": {},
   "source": [
    "# 网络"
   ]
  },
  {
   "cell_type": "code",
   "execution_count": 4,
   "id": "greater-surrey",
   "metadata": {},
   "outputs": [],
   "source": [
    "class Net(nn.Module):\n",
    "    def __init__(self, input_size, hidden_size, output_size, batch_size, num_layers=1):\n",
    "        super().__init__()\n",
    "\n",
    "        self.hidden_size = hidden_size\n",
    "        self.num_layers = num_layers\n",
    "        self.batch_size = batch_size\n",
    "\n",
    "        self.embedding = nn.Embedding.from_pretrained(torch.Tensor(embedding_matrix()))\n",
    "        self.embedding.requires_grad = False\n",
    "\n",
    "        self.attention = nn.MultiheadAttention(hidden_size*num_layers,2)\n",
    "        self.rnn = nn.GRU(input_size, hidden_size, num_layers)\n",
    "        self.linear = nn.Linear(hidden_size, output_size)\n",
    "        self.softmax = nn.LogSoftmax(dim=-1)\n",
    "        \n",
    "\n",
    "    def forward(self, x, h):\n",
    "        x = self.embedding(x)\n",
    "        x = x.transpose(0, 1)\n",
    "        x,h = self.rnn(x,h)\n",
    "\n",
    "        output,output_Weight = self.attention(x,x,x)\n",
    "        output = self.linear(output[-1])\n",
    "        output = self.softmax(output)\n",
    "        return output\n",
    "\n",
    "    def initHidden(self):\n",
    "        h_0 = torch.zeros(self.num_layers, self.batch_size, self.hidden_size)\n",
    "        return h_0"
   ]
  },
  {
   "cell_type": "code",
   "execution_count": 10,
   "id": "aboriginal-tobacco",
   "metadata": {},
   "outputs": [],
   "source": [
    "# val_db = getdata(filename = '../data/testData_10w.csv',num_words = 50000,max_tokens = 100)\n",
    "\n",
    "\n",
    "# device = torch.device('cuda' if torch.cuda.is_available() else 'cpu')\n",
    "# Batch_size = 2\n",
    "\n",
    "# net = Net(input_size=300, hidden_size=128, output_size=2, batch_size=Batch_size)\n",
    "# net = net\n",
    "# criterion = nn.NLLLoss()\n",
    "# input = None\n",
    "# data = DataLoader(val_db, batch_size=Batch_size, shuffle=True,drop_last=True)\n",
    "# for i in data:\n",
    "#     input = i"
   ]
  },
  {
   "cell_type": "code",
   "execution_count": 11,
   "id": "prescription-constraint",
   "metadata": {},
   "outputs": [],
   "source": [
    "# output = net(input[0].long(),net.initHidden()).transpose(0,1)\n",
    "# output.shape\n"
   ]
  },
  {
   "cell_type": "code",
   "execution_count": 12,
   "id": "clinical-finance",
   "metadata": {},
   "outputs": [],
   "source": [
    "# output"
   ]
  },
  {
   "cell_type": "markdown",
   "id": "double-academy",
   "metadata": {},
   "source": [
    "# 超参数"
   ]
  },
  {
   "cell_type": "code",
   "execution_count": 5,
   "id": "natural-process",
   "metadata": {},
   "outputs": [
    {
     "name": "stderr",
     "output_type": "stream",
     "text": [
      "Building prefix dict from the default dictionary ...\n",
      "Loading model from cache C:\\Users\\ADMINI~1\\AppData\\Local\\Temp\\jieba.cache\n",
      "Loading model cost 0.751 seconds.\n",
      "Prefix dict has been built successfully.\n"
     ]
    }
   ],
   "source": [
    "train_db = getdata(filename = '../data/shopping/train.csv',num_words = 50000,max_tokens = 100)\n",
    "val_db = getdata(filename = '../data/shopping/val.csv',num_words = 50000,max_tokens = 100)\n",
    "test_db = getdata(filename = '../data/shopping/test.csv',num_words = 50000,max_tokens = 100)"
   ]
  },
  {
   "cell_type": "code",
   "execution_count": 6,
   "id": "effective-summit",
   "metadata": {},
   "outputs": [
    {
     "name": "stdout",
     "output_type": "stream",
     "text": [
      "Net(\n",
      "  (embedding): Embedding(50000, 300)\n",
      "  (attention): MultiheadAttention(\n",
      "    (out_proj): _LinearWithBias(in_features=128, out_features=128, bias=True)\n",
      "  )\n",
      "  (rnn): GRU(300, 128)\n",
      "  (linear): Linear(in_features=128, out_features=2, bias=True)\n",
      "  (softmax): LogSoftmax(dim=-1)\n",
      ")\n"
     ]
    }
   ],
   "source": [
    "device = torch.device('cuda' if torch.cuda.is_available() else 'cpu')\n",
    "Batch_size = 128\n",
    "N_EPOCHS = 100\n",
    "\n",
    "net = Net(input_size=300, hidden_size=128, output_size=2, batch_size=Batch_size)\n",
    "net = net.to(device)\n",
    "criterion = nn.NLLLoss().to(device)\n",
    "optimizer = optim.SGD(net.parameters(), lr=0.001)\n",
    "scheduler = torch.optim.lr_scheduler.StepLR(optimizer, step_size=50, gamma=0.5)\n",
    "\n",
    "print(net)"
   ]
  },
  {
   "cell_type": "code",
   "execution_count": 13,
   "id": "cooked-divide",
   "metadata": {},
   "outputs": [],
   "source": [
    "# nn.init.orthogonal_(net.rnn.weights,1)\n"
   ]
  },
  {
   "cell_type": "markdown",
   "id": "military-baghdad",
   "metadata": {},
   "source": [
    "# 训练"
   ]
  },
  {
   "cell_type": "code",
   "execution_count": 7,
   "id": "found-bargain",
   "metadata": {},
   "outputs": [
    {
     "name": "stdout",
     "output_type": "stream",
     "text": [
      "(0.005437492433449496, 0.477241847826087)\n",
      "(0.005437221094641996, 0.4813179347826087)\n",
      "(1248, 142, 1351, 203)\n"
     ]
    }
   ],
   "source": [
    "def train(train_db, net, batch_size=20):\n",
    "    train_loss = 0\n",
    "    train_acc = 0\n",
    "\n",
    "    data = DataLoader(train_db, batch_size=batch_size, shuffle=True,drop_last=True)\n",
    "    epoch = 0\n",
    "    for i, (text, label) in enumerate(data):\n",
    "        optimizer.zero_grad()\n",
    "\n",
    "        text = text.long().to(device)\n",
    "        label = label.long().to(device)\n",
    "\n",
    "        h = net.initHidden()\n",
    "        h = h.to(device)\n",
    "        output = net(text, h)\n",
    "        loss = criterion(output, label)\n",
    "\n",
    "        train_acc += (label.view(-1, 1) == output.topk(1)[1]).sum().item()\n",
    "        train_loss += loss.item()\n",
    "\n",
    "        loss.backward()\n",
    "        optimizer.step()\n",
    "        epoch = epoch + 1\n",
    "\n",
    "    return train_loss / (epoch*batch_size), train_acc / (epoch*batch_size)\n",
    "\n",
    "\n",
    "def valid(val_db, net, batch_size=20):\n",
    "    val_loss = 0\n",
    "    val_acc = 0\n",
    "\n",
    "    data = DataLoader(val_db, batch_size=batch_size, shuffle=True,drop_last=True)\n",
    "    epoch = 0\n",
    "    for text, label in data:\n",
    "        with torch.no_grad():\n",
    "            text = text.long().to(device)\n",
    "            label = label.long().to(device)\n",
    "\n",
    "            h = net.initHidden()\n",
    "            h = h.to(device)\n",
    "            output = net(text, h)\n",
    "            loss = criterion(output, label)\n",
    "\n",
    "            val_acc += (label.view(-1, 1) == output.topk(1)[1]).sum().item()\n",
    "            val_loss += loss.item()\n",
    "            epoch = epoch+1\n",
    "\n",
    "    return val_loss / (epoch*batch_size), val_acc / (epoch*batch_size)\n",
    "\n",
    "def test(test_db, net, batch_size=20):\n",
    "    data = DataLoader(test_db, batch_size=batch_size, shuffle=True,drop_last=True)\n",
    "    TP = 0\n",
    "    TN = 0\n",
    "    FP = 0\n",
    "    FN = 0\n",
    "    for text, label in data:\n",
    "        with torch.no_grad():\n",
    "            text = text.long().to(device)\n",
    "            label = label.long().to(device)\n",
    "\n",
    "            h = net.initHidden()\n",
    "            h = h.to(device)\n",
    "            output = net(text, h)\n",
    "            prediction = output.topk(1)[1]\n",
    "            for p, t in zip(prediction.view(-1), label.view(-1)):\n",
    "                if((p==1) & (t==1)):\n",
    "                    TP = TP + 1\n",
    "                elif((p==0) & (t==0)):\n",
    "                    TN = TN + 1\n",
    "                elif((p==1) & (t==0)):\n",
    "                    FP = FP +1\n",
    "                elif((p==0) & (t==1)):\n",
    "                    FN = FN +1\n",
    "    return TP,TN,FP,FN\n",
    "print(train(train_db, net, batch_size=Batch_size))\n",
    "print(valid(val_db, net, batch_size=Batch_size))\n",
    "print(test(test_db, net, batch_size=Batch_size))"
   ]
  },
  {
   "cell_type": "code",
   "execution_count": 20,
   "id": "fleet-delaware",
   "metadata": {},
   "outputs": [
    {
     "name": "stdout",
     "output_type": "stream",
     "text": [
      "Epoch: 1  | time in 0 minites, 0 seconds\n",
      "\tLoss: 0.0055(train)\t|\tAcc: 49.5%(train)\n",
      "\tLoss: 0.0055(valid)\t|\tAcc: 47.8%(valid)\n",
      "Epoch: 2  | time in 0 minites, 1 seconds\n",
      "\tLoss: 0.0055(train)\t|\tAcc: 49.5%(train)\n",
      "\tLoss: 0.0055(valid)\t|\tAcc: 47.8%(valid)\n",
      "Epoch: 3  | time in 0 minites, 2 seconds\n",
      "\tLoss: 0.0055(train)\t|\tAcc: 49.3%(train)\n",
      "\tLoss: 0.0055(valid)\t|\tAcc: 47.4%(valid)\n",
      "Epoch: 4  | time in 0 minites, 2 seconds\n",
      "\tLoss: 0.0055(train)\t|\tAcc: 49.4%(train)\n",
      "\tLoss: 0.0055(valid)\t|\tAcc: 46.9%(valid)\n",
      "Epoch: 5  | time in 0 minites, 3 seconds\n",
      "\tLoss: 0.0055(train)\t|\tAcc: 48.7%(train)\n",
      "\tLoss: 0.0055(valid)\t|\tAcc: 46.9%(valid)\n",
      "Epoch: 6  | time in 0 minites, 4 seconds\n",
      "\tLoss: 0.0055(train)\t|\tAcc: 48.7%(train)\n",
      "\tLoss: 0.0055(valid)\t|\tAcc: 46.5%(valid)\n",
      "Epoch: 7  | time in 0 minites, 4 seconds\n",
      "\tLoss: 0.0055(train)\t|\tAcc: 47.6%(train)\n",
      "\tLoss: 0.0055(valid)\t|\tAcc: 46.2%(valid)\n",
      "Epoch: 8  | time in 0 minites, 5 seconds\n",
      "\tLoss: 0.0054(train)\t|\tAcc: 47.3%(train)\n",
      "\tLoss: 0.0055(valid)\t|\tAcc: 45.8%(valid)\n",
      "Epoch: 9  | time in 0 minites, 6 seconds\n",
      "\tLoss: 0.0054(train)\t|\tAcc: 47.1%(train)\n",
      "\tLoss: 0.0054(valid)\t|\tAcc: 45.7%(valid)\n",
      "Epoch: 10  | time in 0 minites, 6 seconds\n",
      "\tLoss: 0.0054(train)\t|\tAcc: 46.3%(train)\n",
      "\tLoss: 0.0054(valid)\t|\tAcc: 45.1%(valid)\n"
     ]
    }
   ],
   "source": [
    "# from torch.utils.tensorboard import SummaryWriter\n",
    "\n",
    "\n",
    "# writer = SummaryWriter('../log/test3')\n",
    "# writer.add_graph(net,(torch.zeros(32,90).long().to(device),net.initHidden().to(device)))\n",
    "N_EPOCHS = 10\n",
    "start_time = time.time()\n",
    "for epoch in range(N_EPOCHS):\n",
    "\n",
    "    train_loss, train_acc = train(train_db, net, Batch_size)\n",
    "    valid_loss, valid_acc = valid(val_db, net, Batch_size)\n",
    "    scheduler.step()\n",
    "\n",
    "    secs = int(time.time() - start_time)\n",
    "\n",
    "    mins = secs / 60\n",
    "    secs = secs % 60\n",
    "#     writer.add_scalars('Loss', {'train':train_loss,\n",
    "#                                 'test':valid_loss}, epoch)\n",
    "#     writer.add_scalars('Acc', {'train':train_acc,\n",
    "#                                 'test':valid_acc}, epoch)\n",
    "\n",
    "    print('Epoch: %d' % (epoch + 1), \" | time in %d minites, %d seconds\" % (mins, secs))\n",
    "    print(f'\\tLoss: {train_loss:.4f}(train)\\t|\\tAcc: {train_acc * 100:.1f}%(train)')\n",
    "    print(f'\\tLoss: {valid_loss:.4f}(valid)\\t|\\tAcc: {valid_acc * 100:.1f}%(valid)')\n",
    "    \n",
    "# writer.close()\n",
    "# torch.save(net.state_dict(), '../models/LSTM.pkl')"
   ]
  },
  {
   "cell_type": "code",
   "execution_count": 21,
   "id": "temporal-shore",
   "metadata": {},
   "outputs": [
    {
     "name": "stdout",
     "output_type": "stream",
     "text": [
      "TP:168 TN:1172 FP:261 FN:1343\n",
      "accuracy:0.45516304347826086\n",
      "precision:0.3916083916083916\n",
      "recall:0.11118464592984778\n"
     ]
    }
   ],
   "source": [
    "data = DataLoader(val_db, batch_size=128, shuffle=True,drop_last=True)\n",
    "TP = 0\n",
    "TN = 0\n",
    "FP = 0\n",
    "FN = 0\n",
    "for text, label in data:\n",
    "    with torch.no_grad():\n",
    "        text = text.long().to(device)\n",
    "        label = label.long().to(device)\n",
    "        h = net.initHidden()\n",
    "        h = h.to(device)\n",
    "        output = net(text, h)\n",
    "        prediction = output.topk(1)[1]\n",
    "        for p, t in zip(prediction.view(-1), label.view(-1)):\n",
    "            if((p==1) & (t==1)):\n",
    "                TP = TP + 1\n",
    "            elif((p==0) & (t==0)):\n",
    "                TN = TN + 1\n",
    "            elif((p==1) & (t==0)):\n",
    "                FP = FP +1\n",
    "            elif((p==0) & (t==1)):\n",
    "                FN = FN +1\n",
    "                \n",
    "print('TP:'+str(TP)+' TN:' + str(TN) +' FP:'+ str(FP) +' FN:' + str(FN))\n",
    "accuracy = (TP + TN) / (TP + TN + FP + FN)\n",
    "precision = TP / (TP + FP)\n",
    "recall = TP / (TP + FN)\n",
    "print('accuracy:' + str(accuracy) + '\\nprecision:' + str(precision) + '\\nrecall:'+str(recall))\n"
   ]
  },
  {
   "cell_type": "code",
   "execution_count": null,
   "id": "underlying-england",
   "metadata": {},
   "outputs": [],
   "source": []
  }
 ],
 "metadata": {
  "kernelspec": {
   "display_name": "Python [conda env:sentimentAnalysis]",
   "language": "python",
   "name": "conda-env-sentimentAnalysis-py"
  },
  "language_info": {
   "codemirror_mode": {
    "name": "ipython",
    "version": 3
   },
   "file_extension": ".py",
   "mimetype": "text/x-python",
   "name": "python",
   "nbconvert_exporter": "python",
   "pygments_lexer": "ipython3",
   "version": "3.7.1"
  }
 },
 "nbformat": 4,
 "nbformat_minor": 5
}
